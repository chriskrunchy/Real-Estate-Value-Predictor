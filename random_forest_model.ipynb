{
  "nbformat": 4,
  "nbformat_minor": 0,
  "metadata": {
    "colab": {
      "provenance": [],
      "gpuType": "T4"
    },
    "kernelspec": {
      "name": "python3",
      "display_name": "Python 3"
    },
    "language_info": {
      "name": "python"
    },
    "accelerator": "GPU"
  },
  "cells": [
    {
      "cell_type": "code",
      "source": [
        "from google.colab import drive\n",
        "drive.mount('/content/drive')\n",
        "# df = pd.read_csv('/content/drive/My Drive/houses_edited.csv')\n"
      ],
      "metadata": {
        "colab": {
          "base_uri": "https://localhost:8080/"
        },
        "id": "wsxQh1ovPtQO",
        "outputId": "ec7ac0e7-82d0-4927-ffe9-b99e14edc6f1"
      },
      "execution_count": 17,
      "outputs": [
        {
          "output_type": "stream",
          "name": "stdout",
          "text": [
            "Drive already mounted at /content/drive; to attempt to forcibly remount, call drive.mount(\"/content/drive\", force_remount=True).\n"
          ]
        }
      ]
    },
    {
      "cell_type": "code",
      "execution_count": 20,
      "metadata": {
        "id": "mBc0EykLOtZ5"
      },
      "outputs": [],
      "source": [
        "from sklearn.ensemble import RandomForestRegressor\n",
        "from sklearn.model_selection import train_test_split\n",
        "from sklearn.metrics import mean_squared_error, r2_score\n",
        "import pandas as pd\n",
        "from sklearn.inspection import permutation_importance\n",
        "from sklearn.ensemble import RandomForestRegressor\n",
        "from sklearn.model_selection import cross_val_score\n",
        "from sklearn.preprocessing import LabelEncoder\n",
        "\n",
        "\n",
        "df = pd.read_csv('/content/drive/My Drive/houses_edited.csv')\n",
        "\n",
        "\n",
        "# Remove rows with null values from the original DataFrame\n",
        "df.dropna(inplace=True)\n",
        "\n",
        "\n",
        "# Loop to remove outliers in all columns\n",
        "for column in df.columns:\n",
        "    # coding categorical data into quantative data that can analyzed.\n",
        "    df[column] = le().fit_transform(df[column])\n",
        "\n",
        "for column in df.columns:\n",
        "    Q1 = df[column].quantile(0.25)\n",
        "    Q3 = df[column].quantile(0.75)\n",
        "    IQR = Q3 - Q1\n",
        "    lower_bound = Q1 - 1.5 * IQR\n",
        "    upper_bound = Q3 + 1.5 * IQR\n",
        "    df = df[(df[column] >= lower_bound) & (df[column] <= upper_bound)]\n",
        "\n",
        "# Prepare your data for modeling\n",
        "columns_to_drop = ['final_price', 'final_price_transformed',\n",
        "                   'final_price_log', 'full_link', 'full_address', 'title', 'mls']\n",
        "X = df.drop(columns_to_drop, axis=1)\n",
        "y = df['final_price']  # Target variable\n",
        "\n",
        "# Split your data into training and testing sets\n",
        "X_train, X_test, y_train, y_test = train_test_split(\n",
        "    X, y, test_size=0.2, random_state=42)\n",
        "\n",
        "# Create a Random Forest Regressor model\n",
        "rf_regressor = RandomForestRegressor(n_estimators=100, random_state=42)\n",
        "# Train the model on the training data\n",
        "rf_regressor.fit(X_train, y_train)\n",
        "\n",
        "# Compute permutation importances & select important features\n",
        "result = permutation_importance(\n",
        "    rf_regressor, X, y, n_repeats=30, random_state=42)\n",
        "selected_features = result.importances_mean > 0\n",
        "X_selected = X.iloc[:, selected_features]\n"
      ]
    },
    {
      "cell_type": "code",
      "source": [
        "\n",
        "# Retrain the model with the selected features\n",
        "new_rf_regressor = RandomForestRegressor(n_estimators=100, random_state=42)\n",
        "new_rf_regressor.fit(X_selected, y)\n",
        "\n",
        "# # Make predictions using the new model\n",
        "# y_pred = new_rf_regressor.predict(X_test)\n",
        "\n",
        "# Filter the test set to have only the selected features\n",
        "X_test_selected = X_test[X_selected.columns]\n",
        "\n",
        "# Make predictions using the new model\n",
        "y_pred = new_rf_regressor.predict(X_test_selected)\n",
        "\n",
        "# Calculate performance metrics for the new model\n",
        "mse = mean_squared_error(y_test, y_pred)\n",
        "r2 = r2_score(y_test, y_pred)\n",
        "\n",
        "print(f\"Mean Squared Error: {mse}\")\n",
        "print(f\"R-squared: {r2}\")\n"
      ],
      "metadata": {
        "colab": {
          "base_uri": "https://localhost:8080/"
        },
        "id": "8h7keainXcGf",
        "outputId": "78cfccbd-523e-4eda-9958-1ff5ad1ce892"
      },
      "execution_count": 22,
      "outputs": [
        {
          "output_type": "stream",
          "name": "stdout",
          "text": [
            "Mean Squared Error: 573.6000851555555\n",
            "R-squared: 0.9972131968454366\n"
          ]
        }
      ]
    }
  ]
}